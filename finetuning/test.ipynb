{
 "cells": [
  {
   "cell_type": "code",
   "execution_count": 12,
   "metadata": {},
   "outputs": [],
   "source": [
    "def read_steps(file_path):\n",
    "    steps = []\n",
    "    with open(file_path, 'r') as file:\n",
    "        lines = file.readlines()[2:]  \n",
    "        for line in lines:\n",
    "            parts = line.strip().split('|')\n",
    "            print(parts)\n",
    "            if len(parts) >= 3:\n",
    "                action = parts[2].strip()\n",
    "                expected_result = parts[3].strip()\n",
    "                steps.append((action, expected_result))\n",
    "    return steps"
   ]
  },
  {
   "cell_type": "code",
   "execution_count": 13,
   "metadata": {},
   "outputs": [
    {
     "name": "stdout",
     "output_type": "stream",
     "text": [
      "['', ' 1 ', ' Log in to Digital Customer Portal as Admin ', ' Landing page is displayed ', '']\n",
      "['', ' 2 ', ' Click \"Admin\" icon on top ribbon ', ' Page with 3 options for admins is displayed ', '']\n",
      "['', ' 3 ', ' Verify that page contains following tiles:- User Management<br>- Escalation Criteria<br>- Admin Ruleset ', ' Page contains tiles:- User Management<br>- Escalation Criteria<br>- Admin Ruleset ', '']\n",
      "['', ' 4 ', ' Click on tab \"User Management\" ', ' User management page is displayed with list of all users ', '']\n",
      "['', ' 5 ', ' Enter GID, part of User name or e-mail in to search field ', ' Only users matching search conditions are displayed ', '']\n",
      "['', ' 6 ', ' Click \"Edit\" button ', ' Popup with user details, assigned roles and teams is displayed.For reference check attached screenshot ', '']\n",
      "['', ' 7 ', ' Click \"Upate User\" button ', ' User management page is dipslayed users matching search conditions ', '']\n"
     ]
    }
   ],
   "source": [
    "m = read_steps(\"steps.txt\")"
   ]
  },
  {
   "cell_type": "code",
   "execution_count": 21,
   "metadata": {},
   "outputs": [],
   "source": [
    "def read_java_code(file_path):\n",
    "    with open(file_path, 'r') as file:\n",
    "        return file.read()\n",
    "    \n",
    "# /Users/jitender/Documents/GitHub/siemens-code-gen/finetuning/test.ipynb\n",
    "def extract_code_segments(java_code_path, steps):\n",
    "    code_segments = []\n",
    "    # Split the Java code into lines\n",
    "    java_code = read_java_code(java_code_path)\n",
    "    lines = java_code.splitlines()\n",
    "    # Initialize a variable to keep track of the current line index\n",
    "    current_line = 0\n",
    "    capturing = False  # Flag to indicate if we are capturing lines\n",
    "\n",
    "    for action, expected in steps:\n",
    "        segment = []\n",
    "        while current_line < len(lines):\n",
    "            line = lines[current_line].strip()\n",
    "            if line.startswith(\"//Step\"):\n",
    "                if capturing:  # If we were capturing, save the segment\n",
    "                    code_segments.append(\"\\n\".join(segment).strip())\n",
    "                    segment = []  # Clear the segment for the next step\n",
    "                capturing = True  # Start capturing after the first step\n",
    "            elif capturing:  # Only capture lines if we are in a capturing state\n",
    "                segment.append(line)\n",
    "            current_line += 1\n",
    "        \n",
    "        # Append the last segment if capturing was active\n",
    "        if segment:\n",
    "            code_segments.append(\"\\n\".join(segment).strip())\n",
    "\n",
    "    return code_segments"
   ]
  },
  {
   "cell_type": "code",
   "execution_count": 22,
   "metadata": {},
   "outputs": [
    {
     "data": {
      "text/plain": [
       "['tc.browser.start(WebDrv.EDGE, ETestData.QA_ENV_URL, new CoreStartOptions());\\ntc.browser.localLogin();\\nWaitFor.condition(() -> tc.tile.exists(ETile.REPORT_AN_ISSUE));\\ntc.addStepInfo(\"Landing page is Displayed\", true, tc.button.exists(EButton.CONTACT),\\nnew ComparerOptions().takeScreenShotPlatform());',\n",
       " 'WaitFor.condition(() -> tc.button.exists(EButton.ADMIN));\\ntc.button.click(EButton.ADMIN);\\nWaitFor.condition(() -> tc.tile.exists(ETile.USER_MANAGEMENT));\\nList<String> actualTiles = tc.tile.getAllTilesName();\\ntc.addStepInfo(\"Page with 3 options for admins is displayed\", 3, actualTiles.size(),\\nnew ComparerOptions().takeScreenShotPlatform());',\n",
       " 'List<String> expectedTiles = Arrays.asList(\"User Management\", \"Escalation Criteria\" ,\"Admin Ruleset\");\\ntc.addStepInfo(\"\"\"\\nPage contains tiles:\\n- User Management\\n- Escalation Criteria\\n- Admin Ruleset\"\"\", true, actualTiles.equals(expectedTiles), new ComparerOptions().takeScreenShotPlatform());',\n",
       " 'tc.tile.open(ETile.USER_MANAGEMENT);\\nWaitFor.condition(() -> !tc.table.getItemsFromColumn(ETable.USER_TABLE, EColumn.byIndex(0)).isEmpty());\\nboolean isUserManagementOpened = !tc.table.getItemsFromColumn(ETable.USER_TABLE, EColumn.byIndex(0)).isEmpty();\\ntc.addStepInfo(\"User management page is displayed with list of all users\", true, isUserManagementOpened\\n, new ComparerOptions().takeScreenShotPlatform());',\n",
       " 'String gid = \"Z004XU7E\";\\ntc.edit.sendKeys(EEdit.SEARCH, gid);\\nWaitFor.condition(() -> tc.table.getItemsFromColumn(ETable.USER_TABLE, EColumn.byIndex(0)).contains(gid));\\nboolean isUserDisplayed = tc.table.getItemsFromColumn(ETable.USER_TABLE, EColumn.byIndex(0)).contains(gid);\\ntc.addStepInfo(\"Only users matching search conditions are displayed\", true, isUserDisplayed\\n, new ComparerOptions().takeScreenShotPlatform());',\n",
       " 'tc.button.click(EButton.EDIT);\\nWaitFor.condition(tc.modal::exists);\\ntc.addStepInfo(\"\"\"\\nPopup with user details, assigned roles and teams is displayed\\nFor reference check attached screenshot\"\"\", true, tc.modal.exists(), new ComparerOptions().takeScreenShotPlatform());',\n",
       " 'tc.button.click(EButton.UPDATE_USER);\\nWaitFor.condition(() -> tc.table.getItemsFromColumn(ETable.USER_TABLE, EColumn.byIndex(0)).contains(gid));\\nboolean isUserDisplayedAfterUpdate = tc.table.getItemsFromColumn(ETable.USER_TABLE, EColumn.byIndex(0)).contains(gid);\\ntc.addStepInfo(\"User management page is dipslayed users matching search conditions\", true,\\nisUserDisplayedAfterUpdate, new ComparerOptions().takeScreenShotPlatform());\\n});\\n}\\n\\n}']"
      ]
     },
     "execution_count": 22,
     "metadata": {},
     "output_type": "execute_result"
    }
   ],
   "source": [
    "extract_code_segments(\"output.java\", m)"
   ]
  },
  {
   "cell_type": "code",
   "execution_count": null,
   "metadata": {},
   "outputs": [],
   "source": []
  }
 ],
 "metadata": {
  "kernelspec": {
   "display_name": ".venv",
   "language": "python",
   "name": "python3"
  },
  "language_info": {
   "codemirror_mode": {
    "name": "ipython",
    "version": 3
   },
   "file_extension": ".py",
   "mimetype": "text/x-python",
   "name": "python",
   "nbconvert_exporter": "python",
   "pygments_lexer": "ipython3",
   "version": "3.11.10"
  }
 },
 "nbformat": 4,
 "nbformat_minor": 2
}
