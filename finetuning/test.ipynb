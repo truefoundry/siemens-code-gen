{
 "cells": [
  {
   "cell_type": "code",
   "execution_count": 1,
   "metadata": {},
   "outputs": [],
   "source": [
    "def read_steps(file_path):\n",
    "    steps = []\n",
    "    with open(file_path, 'r') as file:\n",
    "        lines = file.readlines()[2:]  \n",
    "        for line in lines:\n",
    "            parts = line.strip().split('|')\n",
    "            print(parts)\n",
    "            if len(parts) >= 3:\n",
    "                action = parts[2].strip()\n",
    "                expected_result = parts[3].strip()\n",
    "                steps.append((action, expected_result))\n",
    "    return steps"
   ]
  },
  {
   "cell_type": "code",
   "execution_count": 2,
   "metadata": {},
   "outputs": [
    {
     "name": "stdout",
     "output_type": "stream",
     "text": [
      "['', ' 1 ', ' Log in to Digital Customer Portal as Admin ', ' Landing page is displayed ', '']\n",
      "['', ' 2 ', ' Click \"Admin\" icon on top ribbon ', ' Page with 3 options for admins is displayed ', '']\n",
      "['', ' 3 ', ' Verify that page contains following tiles:- User Management<br>- Escalation Criteria<br>- Admin Ruleset ', ' Page contains tiles:- User Management<br>- Escalation Criteria<br>- Admin Ruleset ', '']\n",
      "['', ' 4 ', ' Click on tab \"User Management\" ', ' User management page is displayed with list of all users ', '']\n",
      "['', ' 5 ', ' Enter GID, part of User name or e-mail in to search field ', ' Only users matching search conditions are displayed ', '']\n",
      "['', ' 6 ', ' Click \"Edit\" button ', ' Popup with user details, assigned roles and teams is displayed.For reference check attached screenshot ', '']\n",
      "['', ' 7 ', ' Click \"Upate User\" button ', ' User management page is dipslayed users matching search conditions ', '']\n"
     ]
    }
   ],
   "source": [
    "m = read_steps(\"steps.txt\")"
   ]
  },
  {
   "cell_type": "code",
   "execution_count": 3,
   "metadata": {},
   "outputs": [],
   "source": [
    "def read_java_code(file_path):\n",
    "    with open(file_path, 'r') as file:\n",
    "        return file.read()\n",
    "    \n",
    "# /Users/jitender/Documents/GitHub/siemens-code-gen/finetuning/test.ipynb\n",
    "def extract_code_segments(java_code_path, steps):\n",
    "    code_segments = []\n",
    "    # Split the Java code into lines\n",
    "    java_code = read_java_code(java_code_path)\n",
    "    lines = java_code.splitlines()\n",
    "    # Initialize a variable to keep track of the current line index\n",
    "    current_line = 0\n",
    "    capturing = False  # Flag to indicate if we are capturing lines\n",
    "\n",
    "    for action, expected in steps:\n",
    "        segment = []\n",
    "        while current_line < len(lines):\n",
    "            line = lines[current_line].strip()\n",
    "            if line.startswith(\"//Step\"):\n",
    "                if capturing:  # If we were capturing, save the segment\n",
    "                    code_segments.append(\"\\n\".join(segment).strip())\n",
    "                    segment = []  # Clear the segment for the next step\n",
    "                capturing = True  # Start capturing after the first step\n",
    "            elif capturing:  # Only capture lines if we are in a capturing state\n",
    "                segment.append(line)\n",
    "            current_line += 1\n",
    "        \n",
    "        # Append the last segment if capturing was active\n",
    "        if segment:\n",
    "            code_segments.append(\"\\n\".join(segment).strip())\n",
    "\n",
    "    return code_segments"
   ]
  },
  {
   "cell_type": "code",
   "execution_count": 4,
   "metadata": {},
   "outputs": [
    {
     "data": {
      "text/plain": [
       "['tc.browser.start(WebDrv.EDGE, ETestData.QA_ENV_URL, new CoreStartOptions());\\ntc.browser.localLogin();\\nWaitFor.condition(() -> tc.tile.exists(ETile.REPORT_AN_ISSUE));\\ntc.addStepInfo(\"Landing page is Displayed\", true, tc.button.exists(EButton.CONTACT),\\nnew ComparerOptions().takeScreenShotPlatform());',\n",
       " 'WaitFor.condition(() -> tc.button.exists(EButton.ADMIN));\\ntc.button.click(EButton.ADMIN);\\nWaitFor.condition(() -> tc.tile.exists(ETile.USER_MANAGEMENT));\\nList<String> actualTiles = tc.tile.getAllTilesName();\\ntc.addStepInfo(\"Page with 3 options for admins is displayed\", 3, actualTiles.size(),\\nnew ComparerOptions().takeScreenShotPlatform());',\n",
       " 'List<String> expectedTiles = Arrays.asList(\"User Management\", \"Escalation Criteria\" ,\"Admin Ruleset\");\\ntc.addStepInfo(\"\"\"\\nPage contains tiles:\\n- User Management\\n- Escalation Criteria\\n- Admin Ruleset\"\"\", true, actualTiles.equals(expectedTiles), new ComparerOptions().takeScreenShotPlatform());',\n",
       " 'tc.tile.open(ETile.USER_MANAGEMENT);\\nWaitFor.condition(() -> !tc.table.getItemsFromColumn(ETable.USER_TABLE, EColumn.byIndex(0)).isEmpty());\\nboolean isUserManagementOpened = !tc.table.getItemsFromColumn(ETable.USER_TABLE, EColumn.byIndex(0)).isEmpty();\\ntc.addStepInfo(\"User management page is displayed with list of all users\", true, isUserManagementOpened\\n, new ComparerOptions().takeScreenShotPlatform());',\n",
       " 'String gid = \"Z004XU7E\";\\ntc.edit.sendKeys(EEdit.SEARCH, gid);\\nWaitFor.condition(() -> tc.table.getItemsFromColumn(ETable.USER_TABLE, EColumn.byIndex(0)).contains(gid));\\nboolean isUserDisplayed = tc.table.getItemsFromColumn(ETable.USER_TABLE, EColumn.byIndex(0)).contains(gid);\\ntc.addStepInfo(\"Only users matching search conditions are displayed\", true, isUserDisplayed\\n, new ComparerOptions().takeScreenShotPlatform());',\n",
       " 'tc.button.click(EButton.EDIT);\\nWaitFor.condition(tc.modal::exists);\\ntc.addStepInfo(\"\"\"\\nPopup with user details, assigned roles and teams is displayed\\nFor reference check attached screenshot\"\"\", true, tc.modal.exists(), new ComparerOptions().takeScreenShotPlatform());',\n",
       " 'tc.button.click(EButton.UPDATE_USER);\\nWaitFor.condition(() -> tc.table.getItemsFromColumn(ETable.USER_TABLE, EColumn.byIndex(0)).contains(gid));\\nboolean isUserDisplayedAfterUpdate = tc.table.getItemsFromColumn(ETable.USER_TABLE, EColumn.byIndex(0)).contains(gid);\\ntc.addStepInfo(\"User management page is dipslayed users matching search conditions\", true,\\nisUserDisplayedAfterUpdate, new ComparerOptions().takeScreenShotPlatform());\\n});\\n}\\n\\n}']"
      ]
     },
     "execution_count": 4,
     "metadata": {},
     "output_type": "execute_result"
    }
   ],
   "source": [
    "extract_code_segments(\"output.java\", m)"
   ]
  },
  {
   "cell_type": "code",
   "execution_count": 5,
   "metadata": {},
   "outputs": [],
   "source": [
    "import pandas as pd"
   ]
  },
  {
   "cell_type": "code",
   "execution_count": 84,
   "metadata": {},
   "outputs": [],
   "source": [
    "data = pd.read_excel(\"/Users/jitender/Documents/GitHub/siemens-code-gen/DataSets/InVivo/Regression Testing_Test Automation1.xlsx\")"
   ]
  },
  {
   "cell_type": "code",
   "execution_count": 85,
   "metadata": {},
   "outputs": [
    {
     "data": {
      "text/html": [
       "<div>\n",
       "<style scoped>\n",
       "    .dataframe tbody tr th:only-of-type {\n",
       "        vertical-align: middle;\n",
       "    }\n",
       "\n",
       "    .dataframe tbody tr th {\n",
       "        vertical-align: top;\n",
       "    }\n",
       "\n",
       "    .dataframe thead th {\n",
       "        text-align: right;\n",
       "    }\n",
       "</style>\n",
       "<table border=\"1\" class=\"dataframe\">\n",
       "  <thead>\n",
       "    <tr style=\"text-align: right;\">\n",
       "      <th></th>\n",
       "      <th>ID</th>\n",
       "      <th>Work Item Type</th>\n",
       "      <th>Title</th>\n",
       "      <th>Test Step</th>\n",
       "      <th>Step Action</th>\n",
       "      <th>Step Expected</th>\n",
       "      <th>Area Path</th>\n",
       "      <th>Assigned To</th>\n",
       "      <th>State</th>\n",
       "    </tr>\n",
       "  </thead>\n",
       "  <tbody>\n",
       "    <tr>\n",
       "      <th>0</th>\n",
       "      <td>2490.0</td>\n",
       "      <td>Test Case</td>\n",
       "      <td>TC - RS - Ability to assign the Plan/no plan s...</td>\n",
       "      <td>NaN</td>\n",
       "      <td>NaN</td>\n",
       "      <td>NaN</td>\n",
       "      <td>SCPP in-vivo\\Quality</td>\n",
       "      <td>Alice Kaeppner &lt;alice.kaeppner.ext@siemens-hea...</td>\n",
       "      <td>Ready</td>\n",
       "    </tr>\n",
       "    <tr>\n",
       "      <th>1</th>\n",
       "      <td>NaN</td>\n",
       "      <td>NaN</td>\n",
       "      <td>NaN</td>\n",
       "      <td>1.0</td>\n",
       "      <td>URL : https://na1.kinaxis.net/web/SIET04_QA002...</td>\n",
       "      <td>Rapid Response will be visible.\\n</td>\n",
       "      <td>NaN</td>\n",
       "      <td>NaN</td>\n",
       "      <td>NaN</td>\n",
       "    </tr>\n",
       "    <tr>\n",
       "      <th>2</th>\n",
       "      <td>NaN</td>\n",
       "      <td>NaN</td>\n",
       "      <td>NaN</td>\n",
       "      <td>2.0</td>\n",
       "      <td>Create a private scenario using the 'Master Da...</td>\n",
       "      <td>Private scenario is created</td>\n",
       "      <td>NaN</td>\n",
       "      <td>NaN</td>\n",
       "      <td>NaN</td>\n",
       "    </tr>\n",
       "    <tr>\n",
       "      <th>3</th>\n",
       "      <td>NaN</td>\n",
       "      <td>NaN</td>\n",
       "      <td>NaN</td>\n",
       "      <td>3.0</td>\n",
       "      <td>Then open the workbook ‘SHS Part Properties’.\\n</td>\n",
       "      <td>Workbook is opened. (Refer to the screen print...</td>\n",
       "      <td>NaN</td>\n",
       "      <td>NaN</td>\n",
       "      <td>NaN</td>\n",
       "    </tr>\n",
       "    <tr>\n",
       "      <th>4</th>\n",
       "      <td>NaN</td>\n",
       "      <td>NaN</td>\n",
       "      <td>NaN</td>\n",
       "      <td>4.0</td>\n",
       "      <td>In the data settings dialogue box select the ‘...</td>\n",
       "      <td>Workbook is opened and with the private scenar...</td>\n",
       "      <td>NaN</td>\n",
       "      <td>NaN</td>\n",
       "      <td>NaN</td>\n",
       "    </tr>\n",
       "  </tbody>\n",
       "</table>\n",
       "</div>"
      ],
      "text/plain": [
       "       ID Work Item Type                                              Title  \\\n",
       "0  2490.0      Test Case  TC - RS - Ability to assign the Plan/no plan s...   \n",
       "1     NaN            NaN                                                NaN   \n",
       "2     NaN            NaN                                                NaN   \n",
       "3     NaN            NaN                                                NaN   \n",
       "4     NaN            NaN                                                NaN   \n",
       "\n",
       "   Test Step                                        Step Action  \\\n",
       "0        NaN                                                NaN   \n",
       "1        1.0  URL : https://na1.kinaxis.net/web/SIET04_QA002...   \n",
       "2        2.0  Create a private scenario using the 'Master Da...   \n",
       "3        3.0    Then open the workbook ‘SHS Part Properties’.\\n   \n",
       "4        4.0  In the data settings dialogue box select the ‘...   \n",
       "\n",
       "                                       Step Expected             Area Path  \\\n",
       "0                                                NaN  SCPP in-vivo\\Quality   \n",
       "1                  Rapid Response will be visible.\\n                   NaN   \n",
       "2                        Private scenario is created                   NaN   \n",
       "3  Workbook is opened. (Refer to the screen print...                   NaN   \n",
       "4  Workbook is opened and with the private scenar...                   NaN   \n",
       "\n",
       "                                         Assigned To  State  \n",
       "0  Alice Kaeppner <alice.kaeppner.ext@siemens-hea...  Ready  \n",
       "1                                                NaN    NaN  \n",
       "2                                                NaN    NaN  \n",
       "3                                                NaN    NaN  \n",
       "4                                                NaN    NaN  "
      ]
     },
     "execution_count": 85,
     "metadata": {},
     "output_type": "execute_result"
    }
   ],
   "source": [
    "data.head()"
   ]
  },
  {
   "cell_type": "code",
   "execution_count": 86,
   "metadata": {},
   "outputs": [],
   "source": [
    "output_data = {\n",
    "    \"id\":[],\n",
    "    \"result\":[]\n",
    "}\n",
    "for i,row in data.iterrows():\n",
    "    if pd.notna(row[\"ID\"]):\n",
    "        output_data[\"id\"].append(row[\"ID\"])\n",
    "        j=i+1\n",
    "        result = []\n",
    "        while j<len(data) and type(data[\"Step Action\"][j]) == str :\n",
    "            result.append((str(data[\"Step Action\"][j]) , str(data[\"Step Expected\"][j])))\n",
    "            j+=1\n",
    "        output_data[\"result\"].append(result)\n",
    "        \n",
    "\n"
   ]
  },
  {
   "cell_type": "code",
   "execution_count": 87,
   "metadata": {},
   "outputs": [
    {
     "data": {
      "text/plain": [
       "{'id': [2490.0,\n",
       "  4643.0,\n",
       "  4657.0,\n",
       "  4669.0,\n",
       "  4692.0,\n",
       "  4696.0,\n",
       "  4699.0,\n",
       "  4703.0,\n",
       "  4704.0,\n",
       "  4709.0],\n",
       " 'result': [[('URL : https://na1.kinaxis.net/web/SIET04_QA002/\\nOpen Rapid Response by clicking on the URL given above.\\n',\n",
       "    'Rapid Response will be visible.\\n'),\n",
       "   (\"Create a private scenario using the 'Master Data Updates' scenario\",\n",
       "    'Private scenario is created'),\n",
       "   ('Then open the workbook ‘SHS Part Properties’.\\n',\n",
       "    'Workbook is opened. (Refer to the screen print for results.\\n'),\n",
       "   ('In the data settings dialogue box select the ‘General’ worksheet. Select the Private scenario created. \\n',\n",
       "    'Workbook is opened and with the private scenario created. '),\n",
       "   ('In General Worksheet Is Active column has been added.',\n",
       "    'Is Active column is updated. (Refer to the screen print for results)\\n')],\n",
       "  [('URL : https://na1.kinaxis.net/siet04_qa002/saml2\\xa0\\nOpen Rapid Response by clicking on the URL given\\nabove.\\n',\n",
       "    'Rapid Response window will open.\\n'),\n",
       "   ('Open the workbook ‘SHS S&OP Consensus Demand Planning’ as shown in the screen print.\\n',\n",
       "    'The workbook \"SHS S&OP Consensus Demand Planning\" is opened\\n'),\n",
       "   (\"In the Data Settings dialog box select the “Consensus Demand Plan –\\nUnits Summary” worksheet. Select a private scenario under the ‘S&OP Candidate’ scenario as here. (Create a private scenario in case it doesn't exist under the S&OP Candidate scenario).\\n\",\n",
       "    \"A private scenario under 'S&OP Candidate' is created and selected.\\n\"),\n",
       "   ('Click on the business line hyperlink for which you want to view the data for. \\n',\n",
       "    'The respective Business line workbook opens.\\n'),\n",
       "   ('Click on the data settings for the new workbook opened and go to the hierarchy option and select the “SHS Product” as shown in the screenshot. Select the part from the hierarchy for which you want to view the data for.\\n',\n",
       "    'The data is filtered for the selected hierarchy settings.'),\n",
       "   ('Go to the bucket settings and select 60 months past buckets in the new workbook opened\\n',\n",
       "    '60 months of historical data will be visible ')],\n",
       "  [('URL : https://na1.kinaxis.net/siet04_qa002/saml2\\xa0\\nOpen Rapid Response by clicking on the URL given\\nabove\\n',\n",
       "    'Rapid Response window will open.\\n'),\n",
       "   ('In order to view the different forecast streams, go to the resource panel and open the workbook ‘SHS S&OP Consensus Demand Planning’ as shown in the screen print.\\n\\n',\n",
       "    'The workbook \"SHS S&OP Consensus Demand Planning\" will open. \\n'),\n",
       "   (\"In the Data Settings dialog box select the “Consensus Demand Plan –\\nUnits Summary” worksheet. Select a private scenario under the ‘S&OP Candidate’ scenario as here. (Create a private scenario in case it doesn't exist under the S&OP Candidate scenario).\\n\",\n",
       "    'The \"Consensus Demand Plan –Units Summary” worksheet will open and the data for each forecast category can be viewed from this workbook.\\n'),\n",
       "   ('In order to input data in any of the forecast categories, click on the link for that particular forecast category. For example if we want to input the data for Spare Parts CS, upon clicking the category it will take us to Spare Part CS workbook.\\n',\n",
       "    'The workbook for the selected forecast category will open. For example, the \"SHS Spare Parts CS\" workbook in this case'),\n",
       "   ('In order to input the forecast, open Proposed Plan Detail worksheet and we can input the values for the mentioned forecast category (Spare Parts CS in this case) in monthly buckets.\\n',\n",
       "    'The Proposed Plan Detail worksheet will open and the forecast can be input/edited in monthly buckets')],\n",
       "  [('URL : https://na1.kinaxis.net/siet04_qa002/saml2\\xa0\\nOpen Rapid Response by clicking on the URL given\\nabove.\\n',\n",
       "    'Rapid Response window will open.\\n'),\n",
       "   ('Go to the resource panel and open the workbook ‘SHS S&OP Consensus Demand Planning’ as shown in the screen print.  \\n',\n",
       "    'The workbook \"SHS S&OP Consensus Demand Planning\" will open\\n'),\n",
       "   (\"In the Data Settings dialog box select the “Consensus Demand Plan –\\nUnits Summary” worksheet. Select a private scenario under the ‘S&OP Candidate’ scenario as here. (Create a private scenario in case it doesn't exist under the S&OP Candidate scenario).\\n\",\n",
       "    'The \"Consensus Demand Plan –Units Summary” worksheet will open and the data for each forecast category can be viewed from this workbook.'),\n",
       "   ('In order to input data in any of the forecast categories, click on the link for that particular forecast category. For example if we want to input the data for Spare Parts CS, upon clicking the category it will take us to Spare Part CS workbook.\\n',\n",
       "    'The workbook for the selected forecast category will open. For example, the \"SHS Spare Parts CS\" workbook in this case\\n'),\n",
       "   ('In order to input the forecast, open Proposed Plan Detail worksheet and we can input the values for the mentioned forecast category (Spare Parts CS in this case) in monthly buckets.\\n',\n",
       "    'The Proposed Plan Detail worksheet will open and the forecast can be input/edited in monthly buckets\\n'),\n",
       "   ('To view forecast accuracy for 12 months, open the \"SHS S&OP Forecast Accuracy\" workbook from the resource panel',\n",
       "    'The \"SHS S&OP Forecast Accuracy\" workbook will open. \\nIn the Forecast Accuracy worksheet we can see the accuracy of the forecast streams on the basis of the Error Measure selected\\nSimilarly in the Forecast Value Add worksheet, we can evaluate if each forecast stream is more or less accurate than the naïve forecast\\xa0')],\n",
       "  [('URL: https://na1.kinaxis.net/siet04_qa002/saml2Open Rapid Response by clicking on the URL given\\nabove.\\n',\n",
       "    'Rapid Response window will open.'),\n",
       "   ('Create a new scenario called TC-4692, a child of S&OP Candidate ',\n",
       "    'The scenario is created'),\n",
       "   ('Open workbook SHS \\xa0S&OP Forecast Item Management\\u200b workbook at the \"forecast Item Configuration\" worksheet. From the item column select Item \"Part:10501081\" and click on the item link and select the \"forecast review\"  ',\n",
       "    'The workbook \"SHS S&OP Forecast item Management \" will open and in the lower pane a chart of the forecast showing actual and forecast for the selected forecast item.\\n'),\n",
       "   ('For the selected forecast item move to the right to the \"Parameter set\"  column Click in the column - you will see \"BestFit\". when you click in this column a list of forecast models will be shown. ',\n",
       "    'A list of forecast models will be displayed '),\n",
       "   ('From the list select the Select the \"ExponentialSmoothing\" forecast model which and save.\\n',\n",
       "    'A the forecast review will change based on the new model selection ')],\n",
       "  [('URL: https://na1.kinaxis.net/web/siet04_ga002/saml2\\nOpen Rapid Response by clicking on the URL given\\nabove.',\n",
       "    'Rapid Response window will open.\\n'),\n",
       "   ('Create a scenario, child of S&OP Candidate called Test Case 4696 ', '\\n'),\n",
       "   ('Go to the resource panel and open the workbook ‘SHS S&OP Forecast Item Management\" at the \"Define Forecast Item Level\" worksheet and select the scenario you created in step 2 as shown in the screen print.  \\n',\n",
       "    'The workbook \"SHS S&OP Forecast Item Management\" will open\\n'),\n",
       "   ('In the top tool bar Click the ‘button marked \"show all\" and from the drop down list select the option \"unassigned\" to display only forecast items records that are not configured.\\n',\n",
       "    ' Only those records which don’t have a forecastitems assigned against them are visible. The \"Stat Forecast Level\" column will be empty for unassigned items'),\n",
       "   ('Select the column ‘Stat Forecast Level (Modify)’ which needs to be assigned with aforecast item and right click to pick ‘Edit Range’ option. In the ‘Edit Range’ dialoguebox select the ‘Copy from column’ under operation and pick the appropriatecolumn from the list. - \"the part column-  Then\\xa0click on ‘Apply’ and finally save thechanges.',\n",
       "    'Changes to statistical forecast item can be saved'),\n",
       "   ('Make sure the newly created forecast items shows up in the ‘Stat Forecast Level (MODIFY)’ column (change the filter to ‘Show All’ incase it is still using ‘Unassigned’)\\u200b',\n",
       "    'Forecast items are visible in the stat forecast Level (Modify) column')],\n",
       "  [('URL: https://na1.kinaxis.net/web/siet04_ga002/saml2\\nOpen Rapid Response by clicking on the URL given\\nabove.',\n",
       "    'Rapid Response window will open.\\n'),\n",
       "   ('Open the \"SHS S&OP Forecast Item Management\" workbook.\\n',\n",
       "    '\"SHS S&OP Forecast Item Management\" workbook opens\\n'),\n",
       "   ('In the data settings from the left select:                                                                                                    \\nWorksheet: Define Forecast Item Level\\n\\xa0Scenario: S&OP Candidate\\nPart: All Parts\\nSites: All Sites\\n',\n",
       "    'Able to use the data settings\\n'),\n",
       "   ('The private scenario needs to be created using the S&OP Candidate scenario. Having created the private scenario make sure that the workbook is opened using the newly created private scenario.',\n",
       "    'Able to view created private scenario\\n'),\n",
       "   ('Click on the data settings and go to the hierarchy option \\n',\n",
       "    'Able to view hierachy options'),\n",
       "   ('Select from “SHS Product” options\\n',\n",
       "    'able to view SHS Product options\\n'),\n",
       "   ('Check that the records are visible in the ‘Forecast Item Configuration’ worksheet\\n',\n",
       "    'records are visible'),\n",
       "   ('Click on the icon under outlier column', 'outlier venue is visible'),\n",
       "   (\"The 'SHS S&OP Data Cleansing' workbook will open to the 'Outliers' worksheet.\\n\",\n",
       "    'outliers workhseet opens'),\n",
       "   (\"Clicking on the graph icon for the part whose outlier needs to be adjusted opens the ‘Outlier Chart' worksheet on the bottom panel\",\n",
       "    'The outliers chart is visible\\n'),\n",
       "   (\"Adjust the demand by typing a value into the 'Demand Adjustment' column for a part of your selection. Save the changes and review the 'Outlier Chart' worksheet.\",\n",
       "    \"Value update is possible and changes are visible in the 'Outlier Chart' worksheet.\")],\n",
       "  [('URL: https://na1.kinaxis.net/siet04_qa002/saml2\\xa0\\nOpen Rapid Response by clicking on the URL given\\nabove.\\n',\n",
       "    'Rapid Response window will open.\\n'),\n",
       "   ('The private scenario needs to be created using the S&OP Candidate scenario. Having created the private scenario make sure that the workbook is opened using the newly created private scenario.\\n',\n",
       "    'Private scenario is created.'),\n",
       "   ('Open the \"SHS S&OP Forecast Disaggregation\" workbook.\\n',\n",
       "    '\"SHS S&OP Forecast Disaggregation\" workbook opens.\\n'),\n",
       "   ('In the data settings from the left select:                                                                                                    \\nWorksheet: Define Forecast Item Level\\n\\xa0Scenario: S&OP Candidate (your private scenario)\\nPart: All Parts\\nSites: All Sites\\nForecast Category: Spare Parts CS',\n",
       "    'Able to use the data settings\\n'),\n",
       "   ('In the Hierarchy settings select relevant SHS Site, SHS Customer and SHS Product, similarly as in the screenshot.',\n",
       "    'Hierarchy is selected.'),\n",
       "   (\"Choose desired product and type new value into the chosen bucket and save the changes. In the bottom part of the screen will show up new worksheet 'Rates Override Detail - Units' where you can see distribution of overridden values.\",\n",
       "    \"Able to make changes. 'Rates Override Detail - Units' worksheet is available and values are overridden.\\n\"),\n",
       "   ('To make forecast adjustments, open the ‘SHS S&OP Consensus Demand Planning’ workbook and make the adjustments using the adjustments row.',\n",
       "    'The forecast is disaggregated using the effective disaggregation rates')],\n",
       "  [('Login to Rapid Response Web version\\n',\n",
       "    'Able to login SHS Rapid Response Instance'),\n",
       "   ('Create a new scenario,  Name: Stat_Forecast under \"S&OP Candidate\" Scenario',\n",
       "    'New scenario is created'),\n",
       "   (\"Click on Resources Icon from the Left Pane and open workbook \\n'SHS S&OP Forecast Item Management\\u200b'\\n\",\n",
       "    'Able to open the workbook and a data setting window pops up'),\n",
       "   ('In Data Settings, make the following selections:\\nWorksheet: \"Define Forecast Item Level\"\\nUnder General:\\nScenario: \"Stat_forecast\"  ( Private scenario that was created)\\nFilter: \"All Part\" \\nSite: \"All Sites\"\\n\\nrest of the data settings leave as default\\n\\nHierarchy Settings - SHS Product\\n',\n",
       "    \"The ' SHS S&OP Forecast Item Management\\u200b' workbook opens with the selected Data settings\\n\"),\n",
       "   (\"Run command ' Generate and Save forecast'  and confirm the pop up to generate the forecast\\n\",\n",
       "    'Command run is completed.\\nForecast is generated\\n'),\n",
       "   (\"Click on Resources Icon from the Left Pane and open workbook \\n'SHS S&OP Consensus Demand Planning\\u200b'\\n\",\n",
       "    'Able to open the workbook and a data setting window pop up'),\n",
       "   ('In Data Settings, make the following selections:\\nWorksheet: \"Consensus Demand Plan - Units Summary\"\\nUnder General:\\nScenario: \"Stat_forecast\"  ( Private scenario that was created)\\nFilter: \"All Part\" \\nSite: \"All Sites\"\\nBucket After Planning date: \"36 \"- \"Month\"\\n\\nrest of the data settings leave as default\\n\\nHiearchy Settings - SHS Product\\n',\n",
       "    'Able to open the workbook and view the full plan cycle of 36 months'),\n",
       "   ('Verify the statistical forecast quantities with other categories and add adjustments to the demand quantities  in the \"Consensus Demand Plan - Unit Summary\" \\n',\n",
       "    'Able to verify the forecast quantities')],\n",
       "  [('URL: https://na1.kinaxis.net/web/siet04_ga002/saml2\\nOpen Rapid Response by clicking on the URL given\\nabove.',\n",
       "    'Rapid Response window will open.\\n'),\n",
       "   ('open the workbook ‘SHS S&OP Forecast Item Management\" \\n',\n",
       "    'workbook ‘SHS S&OP Forecast Item Management\"  is visible\\n'),\n",
       "   ('In order to set up the statistical forecast run the command ‘Statistical Forecast Setup’ as shown screen print. Click on ‘Run’ and finally ‘Confirm’.',\n",
       "    'statistical forecast run the command ‘Statistical Forecast Setup’ is proceeded\\n'),\n",
       "   ('Click on the ‘Forecast Item Configuration’ and check if the newly created forecast items shows up correctly\\n',\n",
       "    'newly created forecast item is visible and correct\\n'),\n",
       "   ('Modify the forecast start and stop dates under the ‘Over Forecast’ column.\\n',\n",
       "    'modified forecast start and stop dates are visible'),\n",
       "   ('Modify  historical and forecast interval count\\n',\n",
       "    'modified historical and forecast interval count are visible\\n'),\n",
       "   ('create new model sets by inserting record using the ‘Model Sets and Method’\\xa0worksheet. New records can be nserted by clicking on the insert icon\\n',\n",
       "    'new records are visible'),\n",
       "   ('replace the ‘DefaultBestFit’ with the newly created model set',\n",
       "    'newly created model ste is visible')]]}"
      ]
     },
     "execution_count": 87,
     "metadata": {},
     "output_type": "execute_result"
    }
   ],
   "source": [
    "output_data"
   ]
  },
  {
   "cell_type": "code",
   "execution_count": 88,
   "metadata": {},
   "outputs": [
    {
     "data": {
      "text/plain": [
       "10"
      ]
     },
     "execution_count": 88,
     "metadata": {},
     "output_type": "execute_result"
    }
   ],
   "source": [
    "len(output_data[\"id\"])"
   ]
  },
  {
   "cell_type": "code",
   "execution_count": 89,
   "metadata": {},
   "outputs": [
    {
     "data": {
      "text/plain": [
       "10"
      ]
     },
     "execution_count": 89,
     "metadata": {},
     "output_type": "execute_result"
    }
   ],
   "source": [
    "len(output_data[\"result\"])"
   ]
  },
  {
   "cell_type": "code",
   "execution_count": 90,
   "metadata": {},
   "outputs": [
    {
     "name": "stdout",
     "output_type": "stream",
     "text": [
      "Table written to steps.txt\n",
      "Table written to steps.txt\n",
      "Table written to steps.txt\n",
      "Table written to steps.txt\n",
      "Table written to steps.txt\n",
      "Table written to steps.txt\n",
      "Table written to steps.txt\n",
      "Table written to steps.txt\n",
      "Table written to steps.txt\n",
      "Table written to steps.txt\n"
     ]
    }
   ],
   "source": [
    "for i in range(len(output_data[\"id\"])):\n",
    "\n",
    "    steps = output_data[\"result\"][i]\n",
    "    with open(f'/Users/jitender/Documents/GitHub/siemens-code-gen/Txt_files_from_excel/InVivo/TestAutomation_1/TC_0{i+1}_{int(output_data[\"id\"][i])}.txt', 'w') as file:\n",
    "        # Write the table header\n",
    "        file.write(\"| Step | Action | Expected Result |\\n\")\n",
    "        file.write(\"|------|--------|------------------|\\n\")\n",
    "\n",
    "        # Write each step\n",
    "        for i, (action, expected_result) in enumerate(steps, start=1):\n",
    "            # Replace newlines with HTML line breaks for formatting\n",
    "            action = action.replace('\\n', '<br>')\n",
    "            expected_result = expected_result.replace('\\n', '<br>')\n",
    "            file.write(f\"| {i} | {action} | {expected_result} |\\n\")\n",
    "\n",
    "    print(\"Table written to steps.txt\")"
   ]
  },
  {
   "cell_type": "code",
   "execution_count": null,
   "metadata": {},
   "outputs": [],
   "source": []
  }
 ],
 "metadata": {
  "kernelspec": {
   "display_name": ".venv",
   "language": "python",
   "name": "python3"
  },
  "language_info": {
   "codemirror_mode": {
    "name": "ipython",
    "version": 3
   },
   "file_extension": ".py",
   "mimetype": "text/x-python",
   "name": "python",
   "nbconvert_exporter": "python",
   "pygments_lexer": "ipython3",
   "version": "3.11.10"
  }
 },
 "nbformat": 4,
 "nbformat_minor": 2
}
